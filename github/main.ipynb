{
 "cells": [
  {
   "cell_type": "code",
   "execution_count": null,
   "metadata": {},
   "outputs": [],
   "source": [
    "import os\n",
    "from github import Github\n",
    "\n",
    "TOKEN = os.environ['GITHUB_ACCESS_TOKEN']\n",
    "\n",
    "github = Github(TOKEN)\n",
    "\n",
    "user = github.get_user()\n",
    "\n",
    "for repo in user.get_repos():\n",
    "    print(repo.name)\n",
    "    user.add_to_watched(repo)"
   ]
  }
 ],
 "metadata": {
  "kernelspec": {
   "display_name": "github",
   "language": "python",
   "name": "python3"
  },
  "language_info": {
   "codemirror_mode": {
    "name": "ipython",
    "version": 3
   },
   "file_extension": ".py",
   "mimetype": "text/x-python",
   "name": "python",
   "nbconvert_exporter": "python",
   "pygments_lexer": "ipython3",
   "version": "3.11.10"
  }
 },
 "nbformat": 4,
 "nbformat_minor": 2
}
